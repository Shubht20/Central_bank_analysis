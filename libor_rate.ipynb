{
  "nbformat": 4,
  "nbformat_minor": 0,
  "metadata": {
    "colab": {
      "provenance": []
    },
    "kernelspec": {
      "name": "python3",
      "display_name": "Python 3"
    },
    "language_info": {
      "name": "python"
    }
  },
  "cells": [
    {
      "cell_type": "code",
      "source": [
        "# 3 month bond data is extracted for every working days from 2000 to 2022 and i generated an excel file 'libor_rate.xlsx' which contains this\n",
        "#genrated file is attached to my submission"
      ],
      "metadata": {
        "id": "8c4gy6VH5O6v"
      },
      "execution_count": null,
      "outputs": []
    },
    {
      "cell_type": "code",
      "execution_count": null,
      "metadata": {
        "id": "t6nzWDSVopyB"
      },
      "outputs": [],
      "source": [
        "import pandas as pd\n",
        "\n",
        "# Read the Excel sheet into a pandas DataFrame\n",
        "df = pd.read_excel('/content/ED Market Data.xlsx')\n",
        "df"
      ]
    },
    {
      "cell_type": "code",
      "source": [
        "start_row = 0\n",
        "start_column = 0\n",
        "end_row = df.shape[0] - 1\n",
        "\n",
        "# Define the step size for columns as after every 6 columns there are dates value and next column contains the price at corresponding date\n",
        "column_step = 6\n",
        "\n",
        "# Create a new DataFrame to store the extracted data\n",
        "#2 dataframes store dates and last price respectively in it\n",
        "new_df1 = pd.DataFrame()\n",
        "new_df2=pd.DataFrame()\n",
        "# Iterate over columns\n",
        "for column in range(start_column, df.shape[1]-6, column_step):\n",
        "\n",
        "    last_row_index = df.iloc[:, column].last_valid_index()\n",
        "    # Extract the values from the current column within the specified row range\n",
        "    column_values = df.iloc[start_row:last_row_index+1, column].tolist()\n",
        "    price_values=df.iloc[start_row:last_row_index+1, column+1].tolist()\n",
        "    s=df.iloc[last_row_index,column]\n",
        "    # Append the values to the new DataFrame as a single column\n",
        "    new_df1 = pd.concat([new_df1, pd.Series(column_values)], axis=0, ignore_index=True)\n",
        "    new_df2=pd.concat([new_df2, pd.Series(price_values)], axis=0, ignore_index=True)\n",
        "    filtered_df = df[df.iloc[:,column+6] == s]\n",
        "\n",
        "# Get the row numbers of the filtered rows\n",
        "    start_row =filtered_df.index[0]+1\n",
        "#now extract last commmodity vales\n",
        "last_row_index = df.iloc[:, -6].last_valid_index()\n",
        "column_values = df.iloc[start_row:last_row_index+1, -6].tolist()\n",
        "price_values=df.iloc[start_row:last_row_index+1, -5].tolist()\n",
        "new_df1 = pd.concat([new_df1, pd.Series(column_values)], axis=0, ignore_index=True)\n",
        "new_df2=pd.concat([new_df2, pd.Series(price_values)], axis=0, ignore_index=True)\n",
        "# Print the new DataFrame\n",
        "print(new_df1)\n",
        "print(new_df2)\n",
        "combined=pd.concat([new_df1,new_df2],axis=1)\n",
        "combined.to_excel('libor_rate.xlsx', index=False)\n",
        "\n"
      ],
      "metadata": {
        "colab": {
          "base_uri": "https://localhost:8080/"
        },
        "id": "-v2_n6VXXF9c",
        "outputId": "f3d7125b-3724-4222-8f37-c30b9bced03e"
      },
      "execution_count": null,
      "outputs": [
        {
          "output_type": "stream",
          "name": "stdout",
          "text": [
            "2459\n",
            "                        0\n",
            "0                    Date\n",
            "1     2000-01-03 00:00:00\n",
            "2     2000-01-04 00:00:00\n",
            "3     2000-01-05 00:00:00\n",
            "4     2000-01-06 00:00:00\n",
            "...                   ...\n",
            "5806  2022-12-13 00:00:00\n",
            "5807  2022-12-14 00:00:00\n",
            "5808  2022-12-15 00:00:00\n",
            "5809  2022-12-16 00:00:00\n",
            "5810  2022-12-19 00:00:00\n",
            "\n",
            "[5811 rows x 1 columns]\n",
            "               0\n",
            "0     Last Price\n",
            "1          93.78\n",
            "2         93.795\n",
            "3          93.79\n",
            "4          93.79\n",
            "...          ...\n",
            "5806      95.255\n",
            "5807      95.255\n",
            "5808       95.26\n",
            "5809     95.2575\n",
            "5810     95.2617\n",
            "\n",
            "[5811 rows x 1 columns]\n"
          ]
        }
      ]
    }
  ]
}